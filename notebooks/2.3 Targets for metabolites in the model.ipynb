{
 "cells": [
  {
   "cell_type": "markdown",
   "metadata": {},
   "source": [
    "## Load a model from the BiGG database"
   ]
  },
  {
   "cell_type": "code",
   "execution_count": 1,
   "metadata": {},
   "outputs": [
    {
     "data": {
      "text/html": []
     },
     "metadata": {},
     "output_type": "display_data"
    },
    {
     "data": {
      "application/javascript": "\n(function(global) {\n  function now() {\n    return new Date();\n  }\n\n  if (typeof (window._bokeh_onload_callbacks) === \"undefined\") {\n    window._bokeh_onload_callbacks = [];\n  }\n\n  function run_callbacks() {\n    window._bokeh_onload_callbacks.forEach(function(callback) { callback() });\n    delete window._bokeh_onload_callbacks\n    console.info(\"Bokeh: all callbacks have finished\");\n  }\n\n  function load_libs(js_urls, callback) {\n    window._bokeh_onload_callbacks.push(callback);\n    if (window._bokeh_is_loading > 0) {\n      console.log(\"Bokeh: BokehJS is being loaded, scheduling callback at\", now());\n      return null;\n    }\n    if (js_urls == null || js_urls.length === 0) {\n      run_callbacks();\n      return null;\n    }\n    console.log(\"Bokeh: BokehJS not loaded, scheduling load and callback at\", now());\n    window._bokeh_is_loading = js_urls.length;\n    for (var i = 0; i < js_urls.length; i++) {\n      var url = js_urls[i];\n      var s = document.createElement('script');\n      s.src = url;\n      s.async = false;\n      s.onreadystatechange = s.onload = function() {\n        window._bokeh_is_loading--;\n        if (window._bokeh_is_loading === 0) {\n          console.log(\"Bokeh: all BokehJS libraries loaded\");\n          run_callbacks()\n        }\n      };\n      s.onerror = function() {\n        console.warn(\"failed to load library \" + url);\n      };\n      console.log(\"Bokeh: injecting script tag for BokehJS library: \", url);\n      document.getElementsByTagName(\"head\")[0].appendChild(s);\n    }\n  };\n\n  var js_urls = ['https://cdn.pydata.org/bokeh/release/bokeh-0.12.0.min.js', 'https://cdn.pydata.org/bokeh/release/bokeh-widgets-0.12.0.min.js', 'https://cdn.pydata.org/bokeh/release/bokeh-compiler-0.12.0.min.js'];\n\n  var inline_js = [\n    function(Bokeh) {\n      Bokeh.set_log_level(\"info\");\n    },\n    \n    function(Bokeh) {\n      Bokeh.$(\"#d04443d3-7420-4df4-9001-94f02250728e\").text(\"BokehJS successfully loaded\");\n    },\n    function(Bokeh) {\n      console.log(\"Bokeh: injecting CSS: https://cdn.pydata.org/bokeh/release/bokeh-0.12.0.min.css\");\n      Bokeh.embed.inject_css(\"https://cdn.pydata.org/bokeh/release/bokeh-0.12.0.min.css\");\n      console.log(\"Bokeh: injecting CSS: https://cdn.pydata.org/bokeh/release/bokeh-widgets-0.12.0.min.css\");\n      Bokeh.embed.inject_css(\"https://cdn.pydata.org/bokeh/release/bokeh-widgets-0.12.0.min.css\");\n    }\n  ];\n\n  function run_inline_js() {\n    for (var i = 0; i < inline_js.length; i++) {\n      inline_js[i](window.Bokeh);\n    }\n  }\n\n  if (window._bokeh_is_loading === 0) {\n    console.log(\"Bokeh: BokehJS loaded, going straight to plotting\");\n    run_inline_js();\n  } else {\n    load_libs(js_urls, function() {\n      console.log(\"Bokeh: BokehJS plotting callback run at\", now());\n      run_inline_js();\n    });\n  }\n}(this));"
     },
     "metadata": {},
     "output_type": "display_data"
    },
    {
     "data": {
      "text/html": []
     },
     "metadata": {},
     "output_type": "display_data"
    },
    {
     "data": {
      "application/javascript": "\n(function(global) {\n  function now() {\n    return new Date();\n  }\n\n  if (typeof (window._bokeh_onload_callbacks) === \"undefined\") {\n    window._bokeh_onload_callbacks = [];\n  }\n\n  function run_callbacks() {\n    window._bokeh_onload_callbacks.forEach(function(callback) { callback() });\n    delete window._bokeh_onload_callbacks\n    console.info(\"Bokeh: all callbacks have finished\");\n  }\n\n  function load_libs(js_urls, callback) {\n    window._bokeh_onload_callbacks.push(callback);\n    if (window._bokeh_is_loading > 0) {\n      console.log(\"Bokeh: BokehJS is being loaded, scheduling callback at\", now());\n      return null;\n    }\n    if (js_urls == null || js_urls.length === 0) {\n      run_callbacks();\n      return null;\n    }\n    console.log(\"Bokeh: BokehJS not loaded, scheduling load and callback at\", now());\n    window._bokeh_is_loading = js_urls.length;\n    for (var i = 0; i < js_urls.length; i++) {\n      var url = js_urls[i];\n      var s = document.createElement('script');\n      s.src = url;\n      s.async = false;\n      s.onreadystatechange = s.onload = function() {\n        window._bokeh_is_loading--;\n        if (window._bokeh_is_loading === 0) {\n          console.log(\"Bokeh: all BokehJS libraries loaded\");\n          run_callbacks()\n        }\n      };\n      s.onerror = function() {\n        console.warn(\"failed to load library \" + url);\n      };\n      console.log(\"Bokeh: injecting script tag for BokehJS library: \", url);\n      document.getElementsByTagName(\"head\")[0].appendChild(s);\n    }\n  };\n\n  var js_urls = ['https://cdn.pydata.org/bokeh/release/bokeh-0.12.0.min.js', 'https://cdn.pydata.org/bokeh/release/bokeh-widgets-0.12.0.min.js', 'https://cdn.pydata.org/bokeh/release/bokeh-compiler-0.12.0.min.js'];\n\n  var inline_js = [\n    function(Bokeh) {\n      Bokeh.set_log_level(\"info\");\n    },\n    \n    function(Bokeh) {\n      Bokeh.$(\"#d44e8be6-6977-4472-aa6e-6b726f0eac6b\").text(\"BokehJS successfully loaded\");\n    },\n    function(Bokeh) {\n      console.log(\"Bokeh: injecting CSS: https://cdn.pydata.org/bokeh/release/bokeh-0.12.0.min.css\");\n      Bokeh.embed.inject_css(\"https://cdn.pydata.org/bokeh/release/bokeh-0.12.0.min.css\");\n      console.log(\"Bokeh: injecting CSS: https://cdn.pydata.org/bokeh/release/bokeh-widgets-0.12.0.min.css\");\n      Bokeh.embed.inject_css(\"https://cdn.pydata.org/bokeh/release/bokeh-widgets-0.12.0.min.css\");\n    }\n  ];\n\n  function run_inline_js() {\n    for (var i = 0; i < inline_js.length; i++) {\n      inline_js[i](window.Bokeh);\n    }\n  }\n\n  if (window._bokeh_is_loading === 0) {\n    console.log(\"Bokeh: BokehJS loaded, going straight to plotting\");\n    run_inline_js();\n  } else {\n    load_libs(js_urls, function() {\n      console.log(\"Bokeh: BokehJS plotting callback run at\", now());\n      run_inline_js();\n    });\n  }\n}(this));"
     },
     "metadata": {},
     "output_type": "display_data"
    }
   ],
   "source": [
    "from cameo import models"
   ]
  },
  {
   "cell_type": "code",
   "execution_count": 2,
   "metadata": {},
   "outputs": [],
   "source": [
    "model = models.bigg.iJO1366"
   ]
  },
  {
   "cell_type": "markdown",
   "metadata": {},
   "source": [
    "## Annotate the model with metabolite information"
   ]
  },
  {
   "cell_type": "code",
   "execution_count": 3,
   "metadata": {},
   "outputs": [
    {
     "name": "stdout",
     "output_type": "stream",
     "text": [
      "Looking for local setup.cfg\n",
      "Not available [Errno 2] No such file or directory: 'setup.cfg'\n"
     ]
    },
    {
     "name": "stderr",
     "output_type": "stream",
     "text": [
      "/Users/joaca/Documents/repositories/marsi/marsi/io/bigg.py:23 \u001b[1;31mFutureWarning\u001b[0m: from_csv is deprecated. Please use read_csv(...) instead. Note that some of the default arguments are different, so please refer to the documentation for from_csv when changing your function calls\n"
     ]
    }
   ],
   "source": [
    "from marsi.cobra.utils import annotate_model"
   ]
  },
  {
   "cell_type": "code",
   "execution_count": 4,
   "metadata": {},
   "outputs": [
    {
     "data": {
      "application/vnd.jupyter.widget-view+json": {
       "model_id": "78f47016dc734a9c829b883e91aa9f29",
       "version_major": 2,
       "version_minor": 0
      },
      "text/html": [
       "<p>Failed to display Jupyter Widget of type <code>HBox</code>.</p>\n",
       "<p>\n",
       "  If you're reading this message in Jupyter Notebook or JupyterLab, it may mean\n",
       "  that the widgets JavaScript is still loading. If this message persists, it\n",
       "  likely means that the widgets JavaScript library is either not installed or\n",
       "  not enabled. See the <a href=\"https://ipywidgets.readthedocs.io/en/stable/user_install.html\">Jupyter\n",
       "  Widgets Documentation</a> for setup instructions.\n",
       "</p>\n",
       "<p>\n",
       "  If you're reading this message in another notebook frontend (for example, a static\n",
       "  rendering on GitHub or <a href=\"https://nbviewer.jupyter.org/\">NBViewer</a>),\n",
       "  it may mean that your frontend doesn't currently support widgets.\n",
       "</p>\n"
      ],
      "text/plain": [
       "HBox()"
      ]
     },
     "metadata": {},
     "output_type": "display_data"
    }
   ],
   "source": [
    "annotate_model(model)"
   ]
  },
  {
   "cell_type": "code",
   "execution_count": 5,
   "metadata": {},
   "outputs": [
    {
     "data": {
      "text/plain": [
       "{'inchi': 'InChI=1S/C2H5NO/c3-1-2-4/h2H,1,3H2'}"
      ]
     },
     "execution_count": 5,
     "metadata": {},
     "output_type": "execute_result"
    }
   ],
   "source": [
    "model.metabolites.aacald_c.annotation"
   ]
  },
  {
   "cell_type": "code",
   "execution_count": 6,
   "metadata": {},
   "outputs": [],
   "source": [
    "from cameo.flux_analysis.analysis import find_essential_metabolites"
   ]
  },
  {
   "cell_type": "code",
   "execution_count": 7,
   "metadata": {},
   "outputs": [],
   "source": [
    "essential_metabolites = find_essential_metabolites(model)"
   ]
  },
  {
   "cell_type": "code",
   "execution_count": 8,
   "metadata": {},
   "outputs": [],
   "source": [
    "non_essential_metabolites = [met for met in model.metabolites \n",
    "                             if met not in essential_metabolites and met.id.endswith(\"_c\")]"
   ]
  },
  {
   "cell_type": "code",
   "execution_count": 9,
   "metadata": {},
   "outputs": [],
   "source": [
    "analogues = {}"
   ]
  },
  {
   "cell_type": "code",
   "execution_count": 10,
   "metadata": {},
   "outputs": [
    {
     "name": "stderr",
     "output_type": "stream",
     "text": [
      "/Users/joaca/Documents/repositories/marsi/marsi/chemistry/rdkit.py:25 DeprecationWarning: The rdkit.Chem.MCS module is deprecated; please use rdkit.Chem.rdFMCS instead.\n"
     ]
    }
   ],
   "source": [
    "from marsi.chemistry.molecule import Molecule\n",
    "from marsi.chemistry.common import dynamic_fingerprint_cut\n",
    "from marsi.nearest_neighbors import search_closest_compounds"
   ]
  },
  {
   "cell_type": "code",
   "execution_count": 11,
   "metadata": {},
   "outputs": [],
   "source": [
    "import os\n",
    "from pandas import read_csv"
   ]
  },
  {
   "cell_type": "code",
   "execution_count": null,
   "metadata": {
    "scrolled": false
   },
   "outputs": [],
   "source": [
    "for met in non_essential_metabolites:\n",
    "    if met.id in [\"23dhb_c\", \"3dhguln_c\", \"3hpp_c\"] or met.id.endswith(\"coa_c\"):  # These chemicals are currently\n",
    "                                                                                  # breaking the software when \n",
    "                                                                                  # running in a loop like this.\n",
    "                                                                      \n",
    "        continue\n",
    "    if 'inchi' in met.annotation and met.id not in analogues:\n",
    "        name = \"%s_analogues.csv\" % met.id\n",
    "        if os.path.exists(name):\n",
    "            analogues[met.id] = read_csv(name, sep=\"\\t\")\n",
    "        else:\n",
    "            molecule = Molecule.from_inchi(met.annotation['inchi'])\n",
    "            fp_cut = dynamic_fingerprint_cut(molecule.num_atoms)\n",
    "            analogues[met.id] = search_closest_compounds(molecule, fp_cut=fp_cut)\n",
    "            analogues[met.id].to_csv(name, sep='\\t')"
   ]
  },
  {
   "cell_type": "code",
   "execution_count": 15,
   "metadata": {},
   "outputs": [
    {
     "data": {
      "text/plain": [
       "(47, 479)"
      ]
     },
     "execution_count": 15,
     "metadata": {},
     "output_type": "execute_result"
    }
   ],
   "source": [
    "len(analogues), len([m for m in non_essential_metabolites if 'inchi' in m.annotation])"
   ]
  },
  {
   "cell_type": "code",
   "execution_count": 16,
   "metadata": {},
   "outputs": [],
   "source": [
    "from pandas import DataFrame"
   ]
  },
  {
   "cell_type": "code",
   "execution_count": 29,
   "metadata": {},
   "outputs": [],
   "source": [
    "df = DataFrame(columns=[\"metabolite name\", \"number of hits\", \"number of hits (50% similarity)\"])"
   ]
  },
  {
   "cell_type": "code",
   "execution_count": 30,
   "metadata": {},
   "outputs": [],
   "source": [
    "for met_id, hits in analogues.items():\n",
    "    if len(hits) > 0:\n",
    "        name = model.metabolites.query(met_id)[0].name\n",
    "        df.loc[met_id] = [name, len(hits), len(hits[hits.structural_score > 0.5])]"
   ]
  },
  {
   "cell_type": "code",
   "execution_count": 35,
   "metadata": {},
   "outputs": [
    {
     "data": {
      "text/html": [
       "<div>\n",
       "<style scoped>\n",
       "    .dataframe tbody tr th:only-of-type {\n",
       "        vertical-align: middle;\n",
       "    }\n",
       "\n",
       "    .dataframe tbody tr th {\n",
       "        vertical-align: top;\n",
       "    }\n",
       "\n",
       "    .dataframe thead th {\n",
       "        text-align: right;\n",
       "    }\n",
       "</style>\n",
       "<table border=\"1\" class=\"dataframe\">\n",
       "  <thead>\n",
       "    <tr style=\"text-align: right;\">\n",
       "      <th></th>\n",
       "      <th>metabolite name</th>\n",
       "      <th>number of hits</th>\n",
       "      <th>number of hits (50% similarity)</th>\n",
       "    </tr>\n",
       "  </thead>\n",
       "  <tbody>\n",
       "    <tr>\n",
       "      <th>3hpppn_c</th>\n",
       "      <td>3-(3-hydroxy-phenyl)propionate</td>\n",
       "      <td>6298</td>\n",
       "      <td>4129</td>\n",
       "    </tr>\n",
       "    <tr>\n",
       "      <th>23ddhb_c</th>\n",
       "      <td>2,3-Dihydro-2,3-dihydroxybenzoate</td>\n",
       "      <td>2296</td>\n",
       "      <td>1519</td>\n",
       "    </tr>\n",
       "    <tr>\n",
       "      <th>3hddcoa_c</th>\n",
       "      <td>(S)-3-Hydroxydodecanoyl-CoA</td>\n",
       "      <td>6</td>\n",
       "      <td>0</td>\n",
       "    </tr>\n",
       "    <tr>\n",
       "      <th>2dr5p_c</th>\n",
       "      <td>2-Deoxy-D-ribose 5-phosphate</td>\n",
       "      <td>226</td>\n",
       "      <td>155</td>\n",
       "    </tr>\n",
       "    <tr>\n",
       "      <th>35cgmp_c</th>\n",
       "      <td>3',5'-Cyclic GMP</td>\n",
       "      <td>1254</td>\n",
       "      <td>428</td>\n",
       "    </tr>\n",
       "    <tr>\n",
       "      <th>2amsa_c</th>\n",
       "      <td>2-Aminomalonate semialdehyde</td>\n",
       "      <td>1785</td>\n",
       "      <td>449</td>\n",
       "    </tr>\n",
       "    <tr>\n",
       "      <th>13dpg_c</th>\n",
       "      <td>3-Phospho-D-glyceroyl phosphate</td>\n",
       "      <td>346</td>\n",
       "      <td>200</td>\n",
       "    </tr>\n",
       "    <tr>\n",
       "      <th>23dhba_c</th>\n",
       "      <td>(2,3-Dihydroxybenzoyl)adenylate</td>\n",
       "      <td>159</td>\n",
       "      <td>4</td>\n",
       "    </tr>\n",
       "    <tr>\n",
       "      <th>3ohcoa_c</th>\n",
       "      <td>3-Oxohexanoyl-CoA</td>\n",
       "      <td>5</td>\n",
       "      <td>0</td>\n",
       "    </tr>\n",
       "    <tr>\n",
       "      <th>3dhgulnp_c</th>\n",
       "      <td>3-keto-L-gulonate-6-phosphate</td>\n",
       "      <td>65</td>\n",
       "      <td>48</td>\n",
       "    </tr>\n",
       "    <tr>\n",
       "      <th>2dr1p_c</th>\n",
       "      <td>2-Deoxy-D-ribose 1-phosphate</td>\n",
       "      <td>1149</td>\n",
       "      <td>508</td>\n",
       "    </tr>\n",
       "    <tr>\n",
       "      <th>2pg_c</th>\n",
       "      <td>D-Glycerate 2-phosphate</td>\n",
       "      <td>1056</td>\n",
       "      <td>472</td>\n",
       "    </tr>\n",
       "    <tr>\n",
       "      <th>15dap_c</th>\n",
       "      <td>1,5-Diaminopentane</td>\n",
       "      <td>3181</td>\n",
       "      <td>925</td>\n",
       "    </tr>\n",
       "    <tr>\n",
       "      <th>2mcacn_c</th>\n",
       "      <td>Cis-2-Methylaconitate</td>\n",
       "      <td>902</td>\n",
       "      <td>566</td>\n",
       "    </tr>\n",
       "    <tr>\n",
       "      <th>12ppd__R_c</th>\n",
       "      <td>(R)-Propane-1,2-diol</td>\n",
       "      <td>244</td>\n",
       "      <td>193</td>\n",
       "    </tr>\n",
       "    <tr>\n",
       "      <th>2h3oppan_c</th>\n",
       "      <td>2-Hydroxy-3-oxopropanoate</td>\n",
       "      <td>964</td>\n",
       "      <td>361</td>\n",
       "    </tr>\n",
       "    <tr>\n",
       "      <th>2dh3dgal_c</th>\n",
       "      <td>2-Dehydro-3-deoxy-D-galactonate</td>\n",
       "      <td>1902</td>\n",
       "      <td>890</td>\n",
       "    </tr>\n",
       "    <tr>\n",
       "      <th>3hcinnm_c</th>\n",
       "      <td>3-hydroxycinnamic acid</td>\n",
       "      <td>6608</td>\n",
       "      <td>4684</td>\n",
       "    </tr>\n",
       "    <tr>\n",
       "      <th>1ddecg3p_c</th>\n",
       "      <td>1-dodecanoyl-sn-glycerol 3-phosphate</td>\n",
       "      <td>1308</td>\n",
       "      <td>41</td>\n",
       "    </tr>\n",
       "    <tr>\n",
       "      <th>3hhcoa_c</th>\n",
       "      <td>(S)-3-Hydroxyhexanoyl-CoA</td>\n",
       "      <td>4</td>\n",
       "      <td>0</td>\n",
       "    </tr>\n",
       "    <tr>\n",
       "      <th>2mcit_c</th>\n",
       "      <td>2-Methylcitrate</td>\n",
       "      <td>1061</td>\n",
       "      <td>517</td>\n",
       "    </tr>\n",
       "    <tr>\n",
       "      <th>23doguln_c</th>\n",
       "      <td>2,3-Dioxo-L-gulonate</td>\n",
       "      <td>1951</td>\n",
       "      <td>905</td>\n",
       "    </tr>\n",
       "    <tr>\n",
       "      <th>3oddcoa_c</th>\n",
       "      <td>3-Oxododecanoyl-CoA</td>\n",
       "      <td>9</td>\n",
       "      <td>4</td>\n",
       "    </tr>\n",
       "    <tr>\n",
       "      <th>1tdecg3p_c</th>\n",
       "      <td>1-tetradecanoyl-sn-glycerol 3-phosphate</td>\n",
       "      <td>918</td>\n",
       "      <td>26</td>\n",
       "    </tr>\n",
       "    <tr>\n",
       "      <th>3odcoa_c</th>\n",
       "      <td>3-Oxodecanoyl-CoA</td>\n",
       "      <td>12</td>\n",
       "      <td>4</td>\n",
       "    </tr>\n",
       "    <tr>\n",
       "      <th>23dappa_c</th>\n",
       "      <td>2,3-diaminopropionate</td>\n",
       "      <td>3025</td>\n",
       "      <td>851</td>\n",
       "    </tr>\n",
       "    <tr>\n",
       "      <th>12ppd__S_c</th>\n",
       "      <td>(S)-Propane-1,2-diol</td>\n",
       "      <td>1207</td>\n",
       "      <td>575</td>\n",
       "    </tr>\n",
       "    <tr>\n",
       "      <th>2ddg6p_c</th>\n",
       "      <td>2-Dehydro-3-deoxy-D-gluconate 6-phosphate</td>\n",
       "      <td>102</td>\n",
       "      <td>73</td>\n",
       "    </tr>\n",
       "    <tr>\n",
       "      <th>2tpr3dpcoa_c</th>\n",
       "      <td>2'-(5''-triphosphoribosyl)-3'-dephospho-CoA</td>\n",
       "      <td>10</td>\n",
       "      <td>1</td>\n",
       "    </tr>\n",
       "    <tr>\n",
       "      <th>3hadpcoa_c</th>\n",
       "      <td>(3S)-3-Hydroxyadipyl-CoA</td>\n",
       "      <td>2</td>\n",
       "      <td>0</td>\n",
       "    </tr>\n",
       "    <tr>\n",
       "      <th>3ohdcoa_c</th>\n",
       "      <td>3-Oxohexadecanoyl-CoA</td>\n",
       "      <td>3</td>\n",
       "      <td>0</td>\n",
       "    </tr>\n",
       "    <tr>\n",
       "      <th>2aobut_c</th>\n",
       "      <td>L-2-Amino-3-oxobutanoate</td>\n",
       "      <td>2856</td>\n",
       "      <td>818</td>\n",
       "    </tr>\n",
       "    <tr>\n",
       "      <th>2shchc_c</th>\n",
       "      <td>2-Succinyl-6-hydroxy-2,4-cyclohexadiene-1-carb...</td>\n",
       "      <td>319</td>\n",
       "      <td>182</td>\n",
       "    </tr>\n",
       "    <tr>\n",
       "      <th>2dh3dgal6p_c</th>\n",
       "      <td>2-Dehydro-3-deoxy-D-galactonate 6-phosphate</td>\n",
       "      <td>102</td>\n",
       "      <td>73</td>\n",
       "    </tr>\n",
       "    <tr>\n",
       "      <th>2ddglcn_c</th>\n",
       "      <td>2-Dehydro-3-deoxy-D-gluconate</td>\n",
       "      <td>1902</td>\n",
       "      <td>890</td>\n",
       "    </tr>\n",
       "    <tr>\n",
       "      <th>3hocoa_c</th>\n",
       "      <td>(S)-3-Hydroxyoctanoyl-CoA</td>\n",
       "      <td>6</td>\n",
       "      <td>1</td>\n",
       "    </tr>\n",
       "    <tr>\n",
       "      <th>3ohodcoa_c</th>\n",
       "      <td>3-Oxooctadecanoyl-CoA</td>\n",
       "      <td>2</td>\n",
       "      <td>0</td>\n",
       "    </tr>\n",
       "    <tr>\n",
       "      <th>25dkglcn_c</th>\n",
       "      <td>2,5-diketo-D-gluconate</td>\n",
       "      <td>1833</td>\n",
       "      <td>779</td>\n",
       "    </tr>\n",
       "    <tr>\n",
       "      <th>3hdcoa_c</th>\n",
       "      <td>(S)-3-Hydroxydecanoyl-CoA</td>\n",
       "      <td>12</td>\n",
       "      <td>2</td>\n",
       "    </tr>\n",
       "    <tr>\n",
       "      <th>2pglyc_c</th>\n",
       "      <td>2-Phosphoglycolate</td>\n",
       "      <td>1121</td>\n",
       "      <td>564</td>\n",
       "    </tr>\n",
       "  </tbody>\n",
       "</table>\n",
       "</div>"
      ],
      "text/plain": [
       "                                                metabolite name  \\\n",
       "3hpppn_c                         3-(3-hydroxy-phenyl)propionate   \n",
       "23ddhb_c                      2,3-Dihydro-2,3-dihydroxybenzoate   \n",
       "3hddcoa_c                           (S)-3-Hydroxydodecanoyl-CoA   \n",
       "2dr5p_c                            2-Deoxy-D-ribose 5-phosphate   \n",
       "35cgmp_c                                       3',5'-Cyclic GMP   \n",
       "2amsa_c                            2-Aminomalonate semialdehyde   \n",
       "13dpg_c                         3-Phospho-D-glyceroyl phosphate   \n",
       "23dhba_c                        (2,3-Dihydroxybenzoyl)adenylate   \n",
       "3ohcoa_c                                      3-Oxohexanoyl-CoA   \n",
       "3dhgulnp_c                        3-keto-L-gulonate-6-phosphate   \n",
       "2dr1p_c                            2-Deoxy-D-ribose 1-phosphate   \n",
       "2pg_c                                   D-Glycerate 2-phosphate   \n",
       "15dap_c                                      1,5-Diaminopentane   \n",
       "2mcacn_c                                  Cis-2-Methylaconitate   \n",
       "12ppd__R_c                                 (R)-Propane-1,2-diol   \n",
       "2h3oppan_c                            2-Hydroxy-3-oxopropanoate   \n",
       "2dh3dgal_c                      2-Dehydro-3-deoxy-D-galactonate   \n",
       "3hcinnm_c                                3-hydroxycinnamic acid   \n",
       "1ddecg3p_c                 1-dodecanoyl-sn-glycerol 3-phosphate   \n",
       "3hhcoa_c                              (S)-3-Hydroxyhexanoyl-CoA   \n",
       "2mcit_c                                         2-Methylcitrate   \n",
       "23doguln_c                                 2,3-Dioxo-L-gulonate   \n",
       "3oddcoa_c                                   3-Oxododecanoyl-CoA   \n",
       "1tdecg3p_c              1-tetradecanoyl-sn-glycerol 3-phosphate   \n",
       "3odcoa_c                                      3-Oxodecanoyl-CoA   \n",
       "23dappa_c                                 2,3-diaminopropionate   \n",
       "12ppd__S_c                                 (S)-Propane-1,2-diol   \n",
       "2ddg6p_c              2-Dehydro-3-deoxy-D-gluconate 6-phosphate   \n",
       "2tpr3dpcoa_c        2'-(5''-triphosphoribosyl)-3'-dephospho-CoA   \n",
       "3hadpcoa_c                             (3S)-3-Hydroxyadipyl-CoA   \n",
       "3ohdcoa_c                                 3-Oxohexadecanoyl-CoA   \n",
       "2aobut_c                               L-2-Amino-3-oxobutanoate   \n",
       "2shchc_c      2-Succinyl-6-hydroxy-2,4-cyclohexadiene-1-carb...   \n",
       "2dh3dgal6p_c        2-Dehydro-3-deoxy-D-galactonate 6-phosphate   \n",
       "2ddglcn_c                         2-Dehydro-3-deoxy-D-gluconate   \n",
       "3hocoa_c                              (S)-3-Hydroxyoctanoyl-CoA   \n",
       "3ohodcoa_c                                3-Oxooctadecanoyl-CoA   \n",
       "25dkglcn_c                               2,5-diketo-D-gluconate   \n",
       "3hdcoa_c                              (S)-3-Hydroxydecanoyl-CoA   \n",
       "2pglyc_c                                     2-Phosphoglycolate   \n",
       "\n",
       "             number of hits number of hits (50% similarity)  \n",
       "3hpppn_c               6298                            4129  \n",
       "23ddhb_c               2296                            1519  \n",
       "3hddcoa_c                 6                               0  \n",
       "2dr5p_c                 226                             155  \n",
       "35cgmp_c               1254                             428  \n",
       "2amsa_c                1785                             449  \n",
       "13dpg_c                 346                             200  \n",
       "23dhba_c                159                               4  \n",
       "3ohcoa_c                  5                               0  \n",
       "3dhgulnp_c               65                              48  \n",
       "2dr1p_c                1149                             508  \n",
       "2pg_c                  1056                             472  \n",
       "15dap_c                3181                             925  \n",
       "2mcacn_c                902                             566  \n",
       "12ppd__R_c              244                             193  \n",
       "2h3oppan_c              964                             361  \n",
       "2dh3dgal_c             1902                             890  \n",
       "3hcinnm_c              6608                            4684  \n",
       "1ddecg3p_c             1308                              41  \n",
       "3hhcoa_c                  4                               0  \n",
       "2mcit_c                1061                             517  \n",
       "23doguln_c             1951                             905  \n",
       "3oddcoa_c                 9                               4  \n",
       "1tdecg3p_c              918                              26  \n",
       "3odcoa_c                 12                               4  \n",
       "23dappa_c              3025                             851  \n",
       "12ppd__S_c             1207                             575  \n",
       "2ddg6p_c                102                              73  \n",
       "2tpr3dpcoa_c             10                               1  \n",
       "3hadpcoa_c                2                               0  \n",
       "3ohdcoa_c                 3                               0  \n",
       "2aobut_c               2856                             818  \n",
       "2shchc_c                319                             182  \n",
       "2dh3dgal6p_c            102                              73  \n",
       "2ddglcn_c              1902                             890  \n",
       "3hocoa_c                  6                               1  \n",
       "3ohodcoa_c                2                               0  \n",
       "25dkglcn_c             1833                             779  \n",
       "3hdcoa_c                 12                               2  \n",
       "2pglyc_c               1121                             564  "
      ]
     },
     "execution_count": 35,
     "metadata": {},
     "output_type": "execute_result"
    }
   ],
   "source": [
    "df"
   ]
  },
  {
   "cell_type": "code",
   "execution_count": null,
   "metadata": {},
   "outputs": [],
   "source": []
  }
 ],
 "metadata": {
  "kernelspec": {
   "display_name": "Python 3",
   "language": "python",
   "name": "python3"
  },
  "language_info": {
   "codemirror_mode": {
    "name": "ipython",
    "version": 3
   },
   "file_extension": ".py",
   "mimetype": "text/x-python",
   "name": "python",
   "nbconvert_exporter": "python",
   "pygments_lexer": "ipython3",
   "version": "3.5.4"
  }
 },
 "nbformat": 4,
 "nbformat_minor": 2
}
